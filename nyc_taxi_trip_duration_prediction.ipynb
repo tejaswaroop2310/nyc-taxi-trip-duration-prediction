{
  "nbformat": 4,
  "nbformat_minor": 0,
  "metadata": {
    "accelerator": "TPU",
    "colab": {
      "name": "nyc-taxi-trip-duration-prediction.ipynb",
      "provenance": [],
      "collapsed_sections": [
        "IO6mii7VzSt2",
        "0K643r1fzSt2",
        "RNJ_YAhBzSt4",
        "-c5yElgNzSt5",
        "Aom7hmqjzSt6",
        "GA8cGEHuzSt-",
        "0om10l5mzSt_",
        "z9ANn5vCzSuA",
        "sEuI7d6gzSuK",
        "UCD3hAZCzSuK",
        "wSyZ-X-TzSuM",
        "6FD63VPszSuO",
        "rtNs8M9_zSuQ",
        "PMrrJCnlzSuQ"
      ],
      "include_colab_link": true
    },
    "kernelspec": {
      "display_name": "Python 3",
      "language": "python",
      "name": "python3"
    },
    "language_info": {
      "codemirror_mode": {
        "name": "ipython",
        "version": 3
      },
      "file_extension": ".py",
      "mimetype": "text/x-python",
      "name": "python",
      "nbconvert_exporter": "python",
      "pygments_lexer": "ipython3",
      "version": "3.6.6"
    }
  },
  "cells": [
    {
      "cell_type": "markdown",
      "metadata": {
        "id": "view-in-github",
        "colab_type": "text"
      },
      "source": [
        "<a href=\"https://colab.research.google.com/github/tejaswaroop2310/nyc-taxi-trip-duration-prediction/blob/main/nyc_taxi_trip_duration_prediction.ipynb\" target=\"_parent\"><img src=\"https://colab.research.google.com/assets/colab-badge.svg\" alt=\"Open In Colab\"/></a>"
      ]
    },
    {
      "cell_type": "markdown",
      "metadata": {
        "id": "l8h923fbzStf"
      },
      "source": [
        "# <b><u> Project Title : Taxi trip time Prediction : Predicting total ride duration of taxi trips in New York City</u></b>\n"
      ]
    },
    {
      "cell_type": "markdown",
      "metadata": {
        "id": "PPg7EkJKZuIC"
      },
      "source": [
        "## <b> Problem Description </b>\n",
        "\n",
        "### Your task is to build a model that predicts the total ride duration of taxi trips in New York City. Your primary dataset is one released by the NYC Taxi and Limousine Commission, which includes pickup time, geo-coordinates, number of passengers, and several other variables."
      ]
    },
    {
      "cell_type": "markdown",
      "metadata": {
        "id": "qyrfB0xQZ1B-"
      },
      "source": [
        "## <b> Data Description </b>\n",
        "\n",
        "### The dataset is based on the 2016 NYC Yellow Cab trip record data made available in Big Query on Google Cloud Platform. The data was originally published by the NYC Taxi and Limousine Commission (TLC). The data was sampled and cleaned for the purposes of this project. Based on individual trip attributes, you should predict the duration of each trip in the test set.\n",
        "\n",
        "### <b>NYC Taxi Data.csv</b> - the training set (contains 1458644 trip records)\n",
        "\n",
        "\n",
        "### Data fields\n",
        "* #### id - a unique identifier for each trip\n",
        "* #### vendor_id - a code indicating the provider associated with the trip record\n",
        "* #### pickup_datetime - date and time when the meter was engaged\n",
        "* #### dropoff_datetime - date and time when the meter was disengaged\n",
        "* #### passenger_count - the number of passengers in the vehicle (driver entered value)\n",
        "* #### pickup_longitude - the longitude where the meter was engaged\n",
        "* #### pickup_latitude - the latitude where the meter was engaged\n",
        "* #### dropoff_longitude - the longitude where the meter was disengaged\n",
        "* #### dropoff_latitude - the latitude where the meter was disengaged\n",
        "* #### store_and_fwd_flag - This flag indicates whether the trip record was held in vehicle memory before sending to the vendor because the vehicle did not have a connection to the server - Y=store and forward; N=not a store and forward trip\n",
        "* #### trip_duration - duration of the trip in seconds"
      ]
    },
    {
      "cell_type": "code",
      "metadata": {
        "colab": {
          "base_uri": "https://localhost:8080/"
        },
        "id": "Q3pNcYbKzZPi",
        "outputId": "5776c05d-6c64-4b9d-b272-43f95ad79bfb"
      },
      "source": [
        "#mounting the Drive\n",
        "from google.colab import drive\n",
        "drive.mount('/content/drive')"
      ],
      "execution_count": null,
      "outputs": [
        {
          "output_type": "stream",
          "text": [
            "Drive already mounted at /content/drive; to attempt to forcibly remount, call drive.mount(\"/content/drive\", force_remount=True).\n"
          ],
          "name": "stdout"
        }
      ]
    },
    {
      "cell_type": "markdown",
      "metadata": {
        "id": "kHCWyeB-zStk"
      },
      "source": [
        "<a id=library></a>\n",
        "## Import libraries"
      ]
    },
    {
      "cell_type": "code",
      "metadata": {
        "colab": {
          "base_uri": "https://localhost:8080/"
        },
        "id": "F20Is2OB0KrR",
        "outputId": "e9cc1402-11cb-45ba-c69c-3621bc8c2b0d"
      },
      "source": [
        " pip install haversine\n"
      ],
      "execution_count": null,
      "outputs": [
        {
          "output_type": "stream",
          "text": [
            "Requirement already satisfied: haversine in /usr/local/lib/python3.7/dist-packages (2.3.1)\n"
          ],
          "name": "stdout"
        }
      ]
    },
    {
      "cell_type": "code",
      "metadata": {
        "id": "o9cb0mfAzStk"
      },
      "source": [
        "#importing required libraries\n",
        "import numpy as np\n",
        "import pandas as pd\n",
        "import seaborn as sns\n",
        "import matplotlib.pyplot as plt\n",
        "import datetime as dt\n",
        "from sklearn.linear_model import LinearRegression\n",
        "from sklearn.ensemble import RandomForestRegressor\n",
        "from xgboost import XGBRegressor\n",
        "from sklearn import metrics\n",
        "from sklearn.model_selection import train_test_split, GridSearchCV\n",
        "from haversine import haversine\n",
        "import statsmodels.formula.api as sm\n",
        "from sklearn.model_selection import learning_curve\n",
        "from sklearn.model_selection import ShuffleSplit\n",
        "import warnings; warnings.simplefilter('ignore')"
      ],
      "execution_count": null,
      "outputs": []
    },
    {
      "cell_type": "markdown",
      "metadata": {
        "id": "XxR4UonTzStl"
      },
      "source": [
        "<a id=data></a>\n",
        "## Import Dataset"
      ]
    },
    {
      "cell_type": "code",
      "metadata": {
        "id": "B4J-FrGtzStl"
      },
      "source": [
        "#import the data from a csv file.\n",
        "data = pd.read_csv('/content/drive/MyDrive/NYC Taxi Data.csv')"
      ],
      "execution_count": null,
      "outputs": []
    },
    {
      "cell_type": "markdown",
      "metadata": {
        "id": "UfZUBKflzStl"
      },
      "source": [
        "<a id=explore></a>\n",
        "## Data Exploration\n"
      ]
    },
    {
      "cell_type": "code",
      "metadata": {
        "colab": {
          "base_uri": "https://localhost:8080/",
          "height": 287
        },
        "id": "qELk8nL7zStm",
        "scrolled": true,
        "outputId": "3f40c0c5-f32c-4fa1-9a96-1490a5d159f3"
      },
      "source": [
        "#retriving the first five records of the data\n",
        "data.head()"
      ],
      "execution_count": null,
      "outputs": [
        {
          "output_type": "execute_result",
          "data": {
            "text/html": [
              "<div>\n",
              "<style scoped>\n",
              "    .dataframe tbody tr th:only-of-type {\n",
              "        vertical-align: middle;\n",
              "    }\n",
              "\n",
              "    .dataframe tbody tr th {\n",
              "        vertical-align: top;\n",
              "    }\n",
              "\n",
              "    .dataframe thead th {\n",
              "        text-align: right;\n",
              "    }\n",
              "</style>\n",
              "<table border=\"1\" class=\"dataframe\">\n",
              "  <thead>\n",
              "    <tr style=\"text-align: right;\">\n",
              "      <th></th>\n",
              "      <th>id</th>\n",
              "      <th>vendor_id</th>\n",
              "      <th>pickup_datetime</th>\n",
              "      <th>dropoff_datetime</th>\n",
              "      <th>passenger_count</th>\n",
              "      <th>pickup_longitude</th>\n",
              "      <th>pickup_latitude</th>\n",
              "      <th>dropoff_longitude</th>\n",
              "      <th>dropoff_latitude</th>\n",
              "      <th>store_and_fwd_flag</th>\n",
              "      <th>trip_duration</th>\n",
              "    </tr>\n",
              "  </thead>\n",
              "  <tbody>\n",
              "    <tr>\n",
              "      <th>0</th>\n",
              "      <td>id2875421</td>\n",
              "      <td>2</td>\n",
              "      <td>2016-03-14 17:24:55</td>\n",
              "      <td>2016-03-14 17:32:30</td>\n",
              "      <td>1</td>\n",
              "      <td>-73.982155</td>\n",
              "      <td>40.767937</td>\n",
              "      <td>-73.964630</td>\n",
              "      <td>40.765602</td>\n",
              "      <td>N</td>\n",
              "      <td>455</td>\n",
              "    </tr>\n",
              "    <tr>\n",
              "      <th>1</th>\n",
              "      <td>id2377394</td>\n",
              "      <td>1</td>\n",
              "      <td>2016-06-12 00:43:35</td>\n",
              "      <td>2016-06-12 00:54:38</td>\n",
              "      <td>1</td>\n",
              "      <td>-73.980415</td>\n",
              "      <td>40.738564</td>\n",
              "      <td>-73.999481</td>\n",
              "      <td>40.731152</td>\n",
              "      <td>N</td>\n",
              "      <td>663</td>\n",
              "    </tr>\n",
              "    <tr>\n",
              "      <th>2</th>\n",
              "      <td>id3858529</td>\n",
              "      <td>2</td>\n",
              "      <td>2016-01-19 11:35:24</td>\n",
              "      <td>2016-01-19 12:10:48</td>\n",
              "      <td>1</td>\n",
              "      <td>-73.979027</td>\n",
              "      <td>40.763939</td>\n",
              "      <td>-74.005333</td>\n",
              "      <td>40.710087</td>\n",
              "      <td>N</td>\n",
              "      <td>2124</td>\n",
              "    </tr>\n",
              "    <tr>\n",
              "      <th>3</th>\n",
              "      <td>id3504673</td>\n",
              "      <td>2</td>\n",
              "      <td>2016-04-06 19:32:31</td>\n",
              "      <td>2016-04-06 19:39:40</td>\n",
              "      <td>1</td>\n",
              "      <td>-74.010040</td>\n",
              "      <td>40.719971</td>\n",
              "      <td>-74.012268</td>\n",
              "      <td>40.706718</td>\n",
              "      <td>N</td>\n",
              "      <td>429</td>\n",
              "    </tr>\n",
              "    <tr>\n",
              "      <th>4</th>\n",
              "      <td>id2181028</td>\n",
              "      <td>2</td>\n",
              "      <td>2016-03-26 13:30:55</td>\n",
              "      <td>2016-03-26 13:38:10</td>\n",
              "      <td>1</td>\n",
              "      <td>-73.973053</td>\n",
              "      <td>40.793209</td>\n",
              "      <td>-73.972923</td>\n",
              "      <td>40.782520</td>\n",
              "      <td>N</td>\n",
              "      <td>435</td>\n",
              "    </tr>\n",
              "  </tbody>\n",
              "</table>\n",
              "</div>"
            ],
            "text/plain": [
              "          id  vendor_id  ... store_and_fwd_flag trip_duration\n",
              "0  id2875421          2  ...                  N           455\n",
              "1  id2377394          1  ...                  N           663\n",
              "2  id3858529          2  ...                  N          2124\n",
              "3  id3504673          2  ...                  N           429\n",
              "4  id2181028          2  ...                  N           435\n",
              "\n",
              "[5 rows x 11 columns]"
            ]
          },
          "metadata": {
            "tags": []
          },
          "execution_count": 72
        }
      ]
    },
    {
      "cell_type": "code",
      "metadata": {
        "colab": {
          "base_uri": "https://localhost:8080/",
          "height": 295
        },
        "id": "qJNMePt5wleT",
        "outputId": "64782119-4e8f-49eb-efc8-4bc498a175e2"
      },
      "source": [
        "#check the statistical summary of Data\n",
        "data.describe()"
      ],
      "execution_count": null,
      "outputs": [
        {
          "output_type": "execute_result",
          "data": {
            "text/html": [
              "<div>\n",
              "<style scoped>\n",
              "    .dataframe tbody tr th:only-of-type {\n",
              "        vertical-align: middle;\n",
              "    }\n",
              "\n",
              "    .dataframe tbody tr th {\n",
              "        vertical-align: top;\n",
              "    }\n",
              "\n",
              "    .dataframe thead th {\n",
              "        text-align: right;\n",
              "    }\n",
              "</style>\n",
              "<table border=\"1\" class=\"dataframe\">\n",
              "  <thead>\n",
              "    <tr style=\"text-align: right;\">\n",
              "      <th></th>\n",
              "      <th>vendor_id</th>\n",
              "      <th>passenger_count</th>\n",
              "      <th>pickup_longitude</th>\n",
              "      <th>pickup_latitude</th>\n",
              "      <th>dropoff_longitude</th>\n",
              "      <th>dropoff_latitude</th>\n",
              "      <th>trip_duration</th>\n",
              "    </tr>\n",
              "  </thead>\n",
              "  <tbody>\n",
              "    <tr>\n",
              "      <th>count</th>\n",
              "      <td>1.458644e+06</td>\n",
              "      <td>1.458644e+06</td>\n",
              "      <td>1.458644e+06</td>\n",
              "      <td>1.458644e+06</td>\n",
              "      <td>1.458644e+06</td>\n",
              "      <td>1.458644e+06</td>\n",
              "      <td>1.458644e+06</td>\n",
              "    </tr>\n",
              "    <tr>\n",
              "      <th>mean</th>\n",
              "      <td>1.534950e+00</td>\n",
              "      <td>1.664530e+00</td>\n",
              "      <td>-7.397349e+01</td>\n",
              "      <td>4.075092e+01</td>\n",
              "      <td>-7.397342e+01</td>\n",
              "      <td>4.075180e+01</td>\n",
              "      <td>9.594923e+02</td>\n",
              "    </tr>\n",
              "    <tr>\n",
              "      <th>std</th>\n",
              "      <td>4.987772e-01</td>\n",
              "      <td>1.314242e+00</td>\n",
              "      <td>7.090186e-02</td>\n",
              "      <td>3.288119e-02</td>\n",
              "      <td>7.064327e-02</td>\n",
              "      <td>3.589056e-02</td>\n",
              "      <td>5.237432e+03</td>\n",
              "    </tr>\n",
              "    <tr>\n",
              "      <th>min</th>\n",
              "      <td>1.000000e+00</td>\n",
              "      <td>0.000000e+00</td>\n",
              "      <td>-1.219333e+02</td>\n",
              "      <td>3.435970e+01</td>\n",
              "      <td>-1.219333e+02</td>\n",
              "      <td>3.218114e+01</td>\n",
              "      <td>1.000000e+00</td>\n",
              "    </tr>\n",
              "    <tr>\n",
              "      <th>25%</th>\n",
              "      <td>1.000000e+00</td>\n",
              "      <td>1.000000e+00</td>\n",
              "      <td>-7.399187e+01</td>\n",
              "      <td>4.073735e+01</td>\n",
              "      <td>-7.399133e+01</td>\n",
              "      <td>4.073588e+01</td>\n",
              "      <td>3.970000e+02</td>\n",
              "    </tr>\n",
              "    <tr>\n",
              "      <th>50%</th>\n",
              "      <td>2.000000e+00</td>\n",
              "      <td>1.000000e+00</td>\n",
              "      <td>-7.398174e+01</td>\n",
              "      <td>4.075410e+01</td>\n",
              "      <td>-7.397975e+01</td>\n",
              "      <td>4.075452e+01</td>\n",
              "      <td>6.620000e+02</td>\n",
              "    </tr>\n",
              "    <tr>\n",
              "      <th>75%</th>\n",
              "      <td>2.000000e+00</td>\n",
              "      <td>2.000000e+00</td>\n",
              "      <td>-7.396733e+01</td>\n",
              "      <td>4.076836e+01</td>\n",
              "      <td>-7.396301e+01</td>\n",
              "      <td>4.076981e+01</td>\n",
              "      <td>1.075000e+03</td>\n",
              "    </tr>\n",
              "    <tr>\n",
              "      <th>max</th>\n",
              "      <td>2.000000e+00</td>\n",
              "      <td>9.000000e+00</td>\n",
              "      <td>-6.133553e+01</td>\n",
              "      <td>5.188108e+01</td>\n",
              "      <td>-6.133553e+01</td>\n",
              "      <td>4.392103e+01</td>\n",
              "      <td>3.526282e+06</td>\n",
              "    </tr>\n",
              "  </tbody>\n",
              "</table>\n",
              "</div>"
            ],
            "text/plain": [
              "          vendor_id  passenger_count  ...  dropoff_latitude  trip_duration\n",
              "count  1.458644e+06     1.458644e+06  ...      1.458644e+06   1.458644e+06\n",
              "mean   1.534950e+00     1.664530e+00  ...      4.075180e+01   9.594923e+02\n",
              "std    4.987772e-01     1.314242e+00  ...      3.589056e-02   5.237432e+03\n",
              "min    1.000000e+00     0.000000e+00  ...      3.218114e+01   1.000000e+00\n",
              "25%    1.000000e+00     1.000000e+00  ...      4.073588e+01   3.970000e+02\n",
              "50%    2.000000e+00     1.000000e+00  ...      4.075452e+01   6.620000e+02\n",
              "75%    2.000000e+00     2.000000e+00  ...      4.076981e+01   1.075000e+03\n",
              "max    2.000000e+00     9.000000e+00  ...      4.392103e+01   3.526282e+06\n",
              "\n",
              "[8 rows x 7 columns]"
            ]
          },
          "metadata": {
            "tags": []
          },
          "execution_count": 73
        }
      ]
    },
    {
      "cell_type": "code",
      "metadata": {
        "colab": {
          "base_uri": "https://localhost:8080/"
        },
        "id": "OlPE-pEqw3QH",
        "outputId": "5b9a7169-418e-4d2d-9061-948e68764d58"
      },
      "source": [
        "#check the info of the data\n",
        "data.info()"
      ],
      "execution_count": null,
      "outputs": [
        {
          "output_type": "stream",
          "text": [
            "<class 'pandas.core.frame.DataFrame'>\n",
            "RangeIndex: 1458644 entries, 0 to 1458643\n",
            "Data columns (total 11 columns):\n",
            " #   Column              Non-Null Count    Dtype  \n",
            "---  ------              --------------    -----  \n",
            " 0   id                  1458644 non-null  object \n",
            " 1   vendor_id           1458644 non-null  int64  \n",
            " 2   pickup_datetime     1458644 non-null  object \n",
            " 3   dropoff_datetime    1458644 non-null  object \n",
            " 4   passenger_count     1458644 non-null  int64  \n",
            " 5   pickup_longitude    1458644 non-null  float64\n",
            " 6   pickup_latitude     1458644 non-null  float64\n",
            " 7   dropoff_longitude   1458644 non-null  float64\n",
            " 8   dropoff_latitude    1458644 non-null  float64\n",
            " 9   store_and_fwd_flag  1458644 non-null  object \n",
            " 10  trip_duration       1458644 non-null  int64  \n",
            "dtypes: float64(4), int64(3), object(4)\n",
            "memory usage: 122.4+ MB\n"
          ],
          "name": "stdout"
        }
      ]
    },
    {
      "cell_type": "markdown",
      "metadata": {
        "id": "OchGkGIGsyS2"
      },
      "source": [
        "They are no missing values in the data set"
      ]
    },
    {
      "cell_type": "code",
      "metadata": {
        "colab": {
          "base_uri": "https://localhost:8080/"
        },
        "id": "wXxtFQgtzStm",
        "scrolled": false,
        "outputId": "9ce21b03-60bd-4ac0-f499-83de7c872c77"
      },
      "source": [
        "#Check shape of dataset\n",
        "data.shape "
      ],
      "execution_count": null,
      "outputs": [
        {
          "output_type": "execute_result",
          "data": {
            "text/plain": [
              "(1458644, 11)"
            ]
          },
          "metadata": {
            "tags": []
          },
          "execution_count": 75
        }
      ]
    },
    {
      "cell_type": "markdown",
      "metadata": {
        "id": "z3UpVoLqzStm"
      },
      "source": [
        "\n",
        "\n",
        "There are approximately **14 lakhs of  records** in our dataset."
      ]
    },
    {
      "cell_type": "code",
      "metadata": {
        "colab": {
          "base_uri": "https://localhost:8080/"
        },
        "id": "uio7Vq0-zStn",
        "scrolled": true,
        "outputId": "3d6991c1-f908-48a6-b59a-f13ffae6248f"
      },
      "source": [
        "#Check count of unique id's in the dataset\n",
        "print(data.id.nunique())"
      ],
      "execution_count": null,
      "outputs": [
        {
          "output_type": "stream",
          "text": [
            "1458644\n"
          ],
          "name": "stdout"
        }
      ]
    },
    {
      "cell_type": "markdown",
      "metadata": {
        "id": "9lLvr9Gc4Wa9"
      },
      "source": [
        "\n",
        "There are no duplicate recors in the data set"
      ]
    },
    {
      "cell_type": "code",
      "metadata": {
        "colab": {
          "base_uri": "https://localhost:8080/"
        },
        "id": "34aNTyCczStn",
        "outputId": "a1afcdf2-1df5-4145-bb3b-7358fa722790"
      },
      "source": [
        "#Check for missing values\n",
        "data.isnull().sum()"
      ],
      "execution_count": null,
      "outputs": [
        {
          "output_type": "execute_result",
          "data": {
            "text/plain": [
              "id                    0\n",
              "vendor_id             0\n",
              "pickup_datetime       0\n",
              "dropoff_datetime      0\n",
              "passenger_count       0\n",
              "pickup_longitude      0\n",
              "pickup_latitude       0\n",
              "dropoff_longitude     0\n",
              "dropoff_latitude      0\n",
              "store_and_fwd_flag    0\n",
              "trip_duration         0\n",
              "dtype: int64"
            ]
          },
          "metadata": {
            "tags": []
          },
          "execution_count": 77
        }
      ]
    },
    {
      "cell_type": "markdown",
      "metadata": {
        "id": "cE8SSPsQzStn"
      },
      "source": [
        "There is no missing Values in the dataset"
      ]
    },
    {
      "cell_type": "code",
      "metadata": {
        "id": "aCL66MI1zStn"
      },
      "source": [
        "#Converting timestamp to datetime format \n",
        "data['pickup_datetime'] = pd.to_datetime(data['pickup_datetime'])\n",
        "data['dropoff_datetime'] = pd.to_datetime(data['dropoff_datetime'])"
      ],
      "execution_count": null,
      "outputs": []
    },
    {
      "cell_type": "code",
      "metadata": {
        "id": "xwzm7ARvzStn"
      },
      "source": [
        "#Calculate and assign new columns to the dataframe such as weekday,\n",
        "#month and pickup_hour which will help us to gain more insights from the data.\n",
        "data['weekday'] = data.pickup_datetime.dt.day_name()\n",
        "data['month'] = data.pickup_datetime.dt.month\n",
        "data['weekday_num'] = data.pickup_datetime.dt.weekday\n",
        "data['pickup_hour'] = data.pickup_datetime.dt.hour"
      ],
      "execution_count": null,
      "outputs": []
    },
    {
      "cell_type": "code",
      "metadata": {
        "id": "ptIrWSIbzSto"
      },
      "source": [
        "#calculate_distance is a function used  to calculate distance between pickup and dropoff positions using Haversine formula.\n",
        "def calculate_distance(df):\n",
        "    pickup = (df['pickup_latitude'], df['pickup_longitude'])\n",
        "    drop = (df['dropoff_latitude'], df['dropoff_longitude'])\n",
        "    return haversine(pickup, drop)"
      ],
      "execution_count": null,
      "outputs": []
    },
    {
      "cell_type": "code",
      "metadata": {
        "id": "PgYZeF5MzSto"
      },
      "source": [
        "#Calculate distance and assign new column to the dataframe.\n",
        "data['distance'] = data.apply(lambda x: calculate_distance(x), axis = 1)"
      ],
      "execution_count": null,
      "outputs": []
    },
    {
      "cell_type": "code",
      "metadata": {
        "id": "JepuM18PzSto"
      },
      "source": [
        "\n",
        "#Calculate Speed in km/h for further insights\n",
        "data['speed'] = (data.distance/(data.trip_duration/3600))"
      ],
      "execution_count": null,
      "outputs": []
    },
    {
      "cell_type": "code",
      "metadata": {
        "id": "J6O8AqKuzStp"
      },
      "source": [
        "#Dummify all the categorical features \n",
        "\n",
        "dummy = pd.get_dummies(data.store_and_fwd_flag, prefix='flag')\n",
        "dummy.drop(dummy.columns[0], axis=1, inplace=True) #avoid dummy trap\n",
        "data = pd.concat([data,dummy], axis = 1)\n",
        "\n",
        "dummy = pd.get_dummies(data.vendor_id, prefix='vendor_id')\n",
        "dummy.drop(dummy.columns[0], axis=1, inplace=True) #avoid dummy trap\n",
        "data = pd.concat([data,dummy], axis = 1)\n",
        "\n",
        "dummy = pd.get_dummies(data.month, prefix='month')\n",
        "dummy.drop(dummy.columns[0], axis=1, inplace=True) #avoid dummy trap\n",
        "data = pd.concat([data,dummy], axis = 1)\n",
        "\n",
        "dummy = pd.get_dummies(data.weekday_num, prefix='weekday_num')\n",
        "dummy.drop(dummy.columns[0], axis=1, inplace=True) #avoid dummy trap\n",
        "data = pd.concat([data,dummy], axis = 1)\n",
        "\n",
        "dummy = pd.get_dummies(data.pickup_hour, prefix='pickup_hour')\n",
        "dummy.drop(dummy.columns[0], axis=1, inplace=True) #avoid dummy trap\n",
        "data = pd.concat([data,dummy], axis = 1)\n",
        "\n",
        "dummy = pd.get_dummies(data.passenger_count, prefix='passenger_count')\n",
        "dummy.drop(dummy.columns[0], axis=1, inplace=True) #avoid dummy trap\n",
        "data = pd.concat([data,dummy], axis = 1)"
      ],
      "execution_count": null,
      "outputs": []
    },
    {
      "cell_type": "code",
      "metadata": {
        "colab": {
          "base_uri": "https://localhost:8080/",
          "height": 307
        },
        "id": "bLeeCpUSzStp",
        "scrolled": true,
        "outputId": "73cb89bb-d44b-49b0-b30a-4a4fcf77cdd5"
      },
      "source": [
        "data.head()"
      ],
      "execution_count": null,
      "outputs": [
        {
          "output_type": "execute_result",
          "data": {
            "text/html": [
              "<div>\n",
              "<style scoped>\n",
              "    .dataframe tbody tr th:only-of-type {\n",
              "        vertical-align: middle;\n",
              "    }\n",
              "\n",
              "    .dataframe tbody tr th {\n",
              "        vertical-align: top;\n",
              "    }\n",
              "\n",
              "    .dataframe thead th {\n",
              "        text-align: right;\n",
              "    }\n",
              "</style>\n",
              "<table border=\"1\" class=\"dataframe\">\n",
              "  <thead>\n",
              "    <tr style=\"text-align: right;\">\n",
              "      <th></th>\n",
              "      <th>id</th>\n",
              "      <th>vendor_id</th>\n",
              "      <th>pickup_datetime</th>\n",
              "      <th>dropoff_datetime</th>\n",
              "      <th>passenger_count</th>\n",
              "      <th>pickup_longitude</th>\n",
              "      <th>pickup_latitude</th>\n",
              "      <th>dropoff_longitude</th>\n",
              "      <th>dropoff_latitude</th>\n",
              "      <th>store_and_fwd_flag</th>\n",
              "      <th>trip_duration</th>\n",
              "      <th>weekday</th>\n",
              "      <th>month</th>\n",
              "      <th>weekday_num</th>\n",
              "      <th>pickup_hour</th>\n",
              "      <th>distance</th>\n",
              "      <th>speed</th>\n",
              "      <th>flag_Y</th>\n",
              "      <th>vendor_id_2</th>\n",
              "      <th>month_2</th>\n",
              "      <th>month_3</th>\n",
              "      <th>month_4</th>\n",
              "      <th>month_5</th>\n",
              "      <th>month_6</th>\n",
              "      <th>weekday_num_1</th>\n",
              "      <th>weekday_num_2</th>\n",
              "      <th>weekday_num_3</th>\n",
              "      <th>weekday_num_4</th>\n",
              "      <th>weekday_num_5</th>\n",
              "      <th>weekday_num_6</th>\n",
              "      <th>pickup_hour_1</th>\n",
              "      <th>pickup_hour_2</th>\n",
              "      <th>pickup_hour_3</th>\n",
              "      <th>pickup_hour_4</th>\n",
              "      <th>pickup_hour_5</th>\n",
              "      <th>pickup_hour_6</th>\n",
              "      <th>pickup_hour_7</th>\n",
              "      <th>pickup_hour_8</th>\n",
              "      <th>pickup_hour_9</th>\n",
              "      <th>pickup_hour_10</th>\n",
              "      <th>pickup_hour_11</th>\n",
              "      <th>pickup_hour_12</th>\n",
              "      <th>pickup_hour_13</th>\n",
              "      <th>pickup_hour_14</th>\n",
              "      <th>pickup_hour_15</th>\n",
              "      <th>pickup_hour_16</th>\n",
              "      <th>pickup_hour_17</th>\n",
              "      <th>pickup_hour_18</th>\n",
              "      <th>pickup_hour_19</th>\n",
              "      <th>pickup_hour_20</th>\n",
              "      <th>pickup_hour_21</th>\n",
              "      <th>pickup_hour_22</th>\n",
              "      <th>pickup_hour_23</th>\n",
              "      <th>passenger_count_1</th>\n",
              "      <th>passenger_count_2</th>\n",
              "      <th>passenger_count_3</th>\n",
              "      <th>passenger_count_4</th>\n",
              "      <th>passenger_count_5</th>\n",
              "      <th>passenger_count_6</th>\n",
              "      <th>passenger_count_7</th>\n",
              "      <th>passenger_count_8</th>\n",
              "      <th>passenger_count_9</th>\n",
              "    </tr>\n",
              "  </thead>\n",
              "  <tbody>\n",
              "    <tr>\n",
              "      <th>0</th>\n",
              "      <td>id2875421</td>\n",
              "      <td>2</td>\n",
              "      <td>2016-03-14 17:24:55</td>\n",
              "      <td>2016-03-14 17:32:30</td>\n",
              "      <td>1</td>\n",
              "      <td>-73.982155</td>\n",
              "      <td>40.767937</td>\n",
              "      <td>-73.964630</td>\n",
              "      <td>40.765602</td>\n",
              "      <td>N</td>\n",
              "      <td>455</td>\n",
              "      <td>Monday</td>\n",
              "      <td>3</td>\n",
              "      <td>0</td>\n",
              "      <td>17</td>\n",
              "      <td>1.498523</td>\n",
              "      <td>11.856445</td>\n",
              "      <td>0</td>\n",
              "      <td>1</td>\n",
              "      <td>0</td>\n",
              "      <td>1</td>\n",
              "      <td>0</td>\n",
              "      <td>0</td>\n",
              "      <td>0</td>\n",
              "      <td>0</td>\n",
              "      <td>0</td>\n",
              "      <td>0</td>\n",
              "      <td>0</td>\n",
              "      <td>0</td>\n",
              "      <td>0</td>\n",
              "      <td>0</td>\n",
              "      <td>0</td>\n",
              "      <td>0</td>\n",
              "      <td>0</td>\n",
              "      <td>0</td>\n",
              "      <td>0</td>\n",
              "      <td>0</td>\n",
              "      <td>0</td>\n",
              "      <td>0</td>\n",
              "      <td>0</td>\n",
              "      <td>0</td>\n",
              "      <td>0</td>\n",
              "      <td>0</td>\n",
              "      <td>0</td>\n",
              "      <td>0</td>\n",
              "      <td>0</td>\n",
              "      <td>1</td>\n",
              "      <td>0</td>\n",
              "      <td>0</td>\n",
              "      <td>0</td>\n",
              "      <td>0</td>\n",
              "      <td>0</td>\n",
              "      <td>0</td>\n",
              "      <td>1</td>\n",
              "      <td>0</td>\n",
              "      <td>0</td>\n",
              "      <td>0</td>\n",
              "      <td>0</td>\n",
              "      <td>0</td>\n",
              "      <td>0</td>\n",
              "      <td>0</td>\n",
              "      <td>0</td>\n",
              "    </tr>\n",
              "    <tr>\n",
              "      <th>1</th>\n",
              "      <td>id2377394</td>\n",
              "      <td>1</td>\n",
              "      <td>2016-06-12 00:43:35</td>\n",
              "      <td>2016-06-12 00:54:38</td>\n",
              "      <td>1</td>\n",
              "      <td>-73.980415</td>\n",
              "      <td>40.738564</td>\n",
              "      <td>-73.999481</td>\n",
              "      <td>40.731152</td>\n",
              "      <td>N</td>\n",
              "      <td>663</td>\n",
              "      <td>Sunday</td>\n",
              "      <td>6</td>\n",
              "      <td>6</td>\n",
              "      <td>0</td>\n",
              "      <td>1.805510</td>\n",
              "      <td>9.803672</td>\n",
              "      <td>0</td>\n",
              "      <td>0</td>\n",
              "      <td>0</td>\n",
              "      <td>0</td>\n",
              "      <td>0</td>\n",
              "      <td>0</td>\n",
              "      <td>1</td>\n",
              "      <td>0</td>\n",
              "      <td>0</td>\n",
              "      <td>0</td>\n",
              "      <td>0</td>\n",
              "      <td>0</td>\n",
              "      <td>1</td>\n",
              "      <td>0</td>\n",
              "      <td>0</td>\n",
              "      <td>0</td>\n",
              "      <td>0</td>\n",
              "      <td>0</td>\n",
              "      <td>0</td>\n",
              "      <td>0</td>\n",
              "      <td>0</td>\n",
              "      <td>0</td>\n",
              "      <td>0</td>\n",
              "      <td>0</td>\n",
              "      <td>0</td>\n",
              "      <td>0</td>\n",
              "      <td>0</td>\n",
              "      <td>0</td>\n",
              "      <td>0</td>\n",
              "      <td>0</td>\n",
              "      <td>0</td>\n",
              "      <td>0</td>\n",
              "      <td>0</td>\n",
              "      <td>0</td>\n",
              "      <td>0</td>\n",
              "      <td>0</td>\n",
              "      <td>1</td>\n",
              "      <td>0</td>\n",
              "      <td>0</td>\n",
              "      <td>0</td>\n",
              "      <td>0</td>\n",
              "      <td>0</td>\n",
              "      <td>0</td>\n",
              "      <td>0</td>\n",
              "      <td>0</td>\n",
              "    </tr>\n",
              "    <tr>\n",
              "      <th>2</th>\n",
              "      <td>id3858529</td>\n",
              "      <td>2</td>\n",
              "      <td>2016-01-19 11:35:24</td>\n",
              "      <td>2016-01-19 12:10:48</td>\n",
              "      <td>1</td>\n",
              "      <td>-73.979027</td>\n",
              "      <td>40.763939</td>\n",
              "      <td>-74.005333</td>\n",
              "      <td>40.710087</td>\n",
              "      <td>N</td>\n",
              "      <td>2124</td>\n",
              "      <td>Tuesday</td>\n",
              "      <td>1</td>\n",
              "      <td>1</td>\n",
              "      <td>11</td>\n",
              "      <td>6.385107</td>\n",
              "      <td>10.822216</td>\n",
              "      <td>0</td>\n",
              "      <td>1</td>\n",
              "      <td>0</td>\n",
              "      <td>0</td>\n",
              "      <td>0</td>\n",
              "      <td>0</td>\n",
              "      <td>0</td>\n",
              "      <td>1</td>\n",
              "      <td>0</td>\n",
              "      <td>0</td>\n",
              "      <td>0</td>\n",
              "      <td>0</td>\n",
              "      <td>0</td>\n",
              "      <td>0</td>\n",
              "      <td>0</td>\n",
              "      <td>0</td>\n",
              "      <td>0</td>\n",
              "      <td>0</td>\n",
              "      <td>0</td>\n",
              "      <td>0</td>\n",
              "      <td>0</td>\n",
              "      <td>0</td>\n",
              "      <td>0</td>\n",
              "      <td>1</td>\n",
              "      <td>0</td>\n",
              "      <td>0</td>\n",
              "      <td>0</td>\n",
              "      <td>0</td>\n",
              "      <td>0</td>\n",
              "      <td>0</td>\n",
              "      <td>0</td>\n",
              "      <td>0</td>\n",
              "      <td>0</td>\n",
              "      <td>0</td>\n",
              "      <td>0</td>\n",
              "      <td>0</td>\n",
              "      <td>1</td>\n",
              "      <td>0</td>\n",
              "      <td>0</td>\n",
              "      <td>0</td>\n",
              "      <td>0</td>\n",
              "      <td>0</td>\n",
              "      <td>0</td>\n",
              "      <td>0</td>\n",
              "      <td>0</td>\n",
              "    </tr>\n",
              "    <tr>\n",
              "      <th>3</th>\n",
              "      <td>id3504673</td>\n",
              "      <td>2</td>\n",
              "      <td>2016-04-06 19:32:31</td>\n",
              "      <td>2016-04-06 19:39:40</td>\n",
              "      <td>1</td>\n",
              "      <td>-74.010040</td>\n",
              "      <td>40.719971</td>\n",
              "      <td>-74.012268</td>\n",
              "      <td>40.706718</td>\n",
              "      <td>N</td>\n",
              "      <td>429</td>\n",
              "      <td>Wednesday</td>\n",
              "      <td>4</td>\n",
              "      <td>2</td>\n",
              "      <td>19</td>\n",
              "      <td>1.485500</td>\n",
              "      <td>12.465738</td>\n",
              "      <td>0</td>\n",
              "      <td>1</td>\n",
              "      <td>0</td>\n",
              "      <td>0</td>\n",
              "      <td>1</td>\n",
              "      <td>0</td>\n",
              "      <td>0</td>\n",
              "      <td>0</td>\n",
              "      <td>1</td>\n",
              "      <td>0</td>\n",
              "      <td>0</td>\n",
              "      <td>0</td>\n",
              "      <td>0</td>\n",
              "      <td>0</td>\n",
              "      <td>0</td>\n",
              "      <td>0</td>\n",
              "      <td>0</td>\n",
              "      <td>0</td>\n",
              "      <td>0</td>\n",
              "      <td>0</td>\n",
              "      <td>0</td>\n",
              "      <td>0</td>\n",
              "      <td>0</td>\n",
              "      <td>0</td>\n",
              "      <td>0</td>\n",
              "      <td>0</td>\n",
              "      <td>0</td>\n",
              "      <td>0</td>\n",
              "      <td>0</td>\n",
              "      <td>0</td>\n",
              "      <td>0</td>\n",
              "      <td>1</td>\n",
              "      <td>0</td>\n",
              "      <td>0</td>\n",
              "      <td>0</td>\n",
              "      <td>0</td>\n",
              "      <td>1</td>\n",
              "      <td>0</td>\n",
              "      <td>0</td>\n",
              "      <td>0</td>\n",
              "      <td>0</td>\n",
              "      <td>0</td>\n",
              "      <td>0</td>\n",
              "      <td>0</td>\n",
              "      <td>0</td>\n",
              "    </tr>\n",
              "    <tr>\n",
              "      <th>4</th>\n",
              "      <td>id2181028</td>\n",
              "      <td>2</td>\n",
              "      <td>2016-03-26 13:30:55</td>\n",
              "      <td>2016-03-26 13:38:10</td>\n",
              "      <td>1</td>\n",
              "      <td>-73.973053</td>\n",
              "      <td>40.793209</td>\n",
              "      <td>-73.972923</td>\n",
              "      <td>40.782520</td>\n",
              "      <td>N</td>\n",
              "      <td>435</td>\n",
              "      <td>Saturday</td>\n",
              "      <td>3</td>\n",
              "      <td>5</td>\n",
              "      <td>13</td>\n",
              "      <td>1.188590</td>\n",
              "      <td>9.836608</td>\n",
              "      <td>0</td>\n",
              "      <td>1</td>\n",
              "      <td>0</td>\n",
              "      <td>1</td>\n",
              "      <td>0</td>\n",
              "      <td>0</td>\n",
              "      <td>0</td>\n",
              "      <td>0</td>\n",
              "      <td>0</td>\n",
              "      <td>0</td>\n",
              "      <td>0</td>\n",
              "      <td>1</td>\n",
              "      <td>0</td>\n",
              "      <td>0</td>\n",
              "      <td>0</td>\n",
              "      <td>0</td>\n",
              "      <td>0</td>\n",
              "      <td>0</td>\n",
              "      <td>0</td>\n",
              "      <td>0</td>\n",
              "      <td>0</td>\n",
              "      <td>0</td>\n",
              "      <td>0</td>\n",
              "      <td>0</td>\n",
              "      <td>0</td>\n",
              "      <td>1</td>\n",
              "      <td>0</td>\n",
              "      <td>0</td>\n",
              "      <td>0</td>\n",
              "      <td>0</td>\n",
              "      <td>0</td>\n",
              "      <td>0</td>\n",
              "      <td>0</td>\n",
              "      <td>0</td>\n",
              "      <td>0</td>\n",
              "      <td>0</td>\n",
              "      <td>1</td>\n",
              "      <td>0</td>\n",
              "      <td>0</td>\n",
              "      <td>0</td>\n",
              "      <td>0</td>\n",
              "      <td>0</td>\n",
              "      <td>0</td>\n",
              "      <td>0</td>\n",
              "      <td>0</td>\n",
              "    </tr>\n",
              "  </tbody>\n",
              "</table>\n",
              "</div>"
            ],
            "text/plain": [
              "          id  vendor_id  ... passenger_count_8 passenger_count_9\n",
              "0  id2875421          2  ...                 0                 0\n",
              "1  id2377394          1  ...                 0                 0\n",
              "2  id3858529          2  ...                 0                 0\n",
              "3  id3504673          2  ...                 0                 0\n",
              "4  id2181028          2  ...                 0                 0\n",
              "\n",
              "[5 rows x 62 columns]"
            ]
          },
          "metadata": {
            "tags": []
          },
          "execution_count": 84
        }
      ]
    },
    {
      "cell_type": "code",
      "metadata": {
        "colab": {
          "base_uri": "https://localhost:8080/"
        },
        "id": "B_vbXMxIzStq",
        "scrolled": true,
        "outputId": "2ff97b81-c0dc-44de-e449-ece1d0343d9d"
      },
      "source": [
        "#check the value count of the passengers\n",
        "data.passenger_count.value_counts()"
      ],
      "execution_count": null,
      "outputs": [
        {
          "output_type": "execute_result",
          "data": {
            "text/plain": [
              "1    1033540\n",
              "2     210318\n",
              "5      78088\n",
              "3      59896\n",
              "6      48333\n",
              "4      28404\n",
              "0         60\n",
              "7          3\n",
              "9          1\n",
              "8          1\n",
              "Name: passenger_count, dtype: int64"
            ]
          },
          "metadata": {
            "tags": []
          },
          "execution_count": 85
        }
      ]
    },
    {
      "cell_type": "code",
      "metadata": {
        "colab": {
          "base_uri": "https://localhost:8080/",
          "height": 334
        },
        "id": "4BtozPW7zStq",
        "outputId": "f8fa5c5c-63c7-4f32-f945-9da4d1dcdb48"
      },
      "source": [
        "#Plot the boxplot for the passengers count\n",
        "plt.figure(figsize = (20,5))\n",
        "sns.boxplot(data.passenger_count, color='skyblue')\n",
        "plt.show()"
      ],
      "execution_count": null,
      "outputs": [
        {
          "output_type": "display_data",
          "data": {
            "image/png": "[encoded data removed]",
            "text/plain": [
              "<Figure size 1440x360 with 1 Axes>"
            ]
          },
          "metadata": {
            "tags": [],
            "needs_background": "light"
          }
        }
      ]
    },
    {
      "cell_type": "markdown",
      "metadata": {
        "id": "e7qGUm9UzStq"
      },
      "source": [
        "\n",
        "- There are  trips with 0 passenger count. \n",
        "- some trips consisted of even 7, 8 or 9 passengers which can be considered as outliers\n",
        "- Most of trip consist of passenger either 1 or 2.\n",
        "\n"
      ]
    },
    {
      "cell_type": "code",
      "metadata": {
        "colab": {
          "base_uri": "https://localhost:8080/"
        },
        "id": "x33f4YPxzStq",
        "outputId": "925ab70b-228b-4f58-a532-6837944179ac"
      },
      "source": [
        "#Check the Statistical summary of the passenger count\n",
        "data.passenger_count.describe()"
      ],
      "execution_count": null,
      "outputs": [
        {
          "output_type": "execute_result",
          "data": {
            "text/plain": [
              "count    1.458644e+06\n",
              "mean     1.664530e+00\n",
              "std      1.314242e+00\n",
              "min      0.000000e+00\n",
              "25%      1.000000e+00\n",
              "50%      1.000000e+00\n",
              "75%      2.000000e+00\n",
              "max      9.000000e+00\n",
              "Name: passenger_count, dtype: float64"
            ]
          },
          "metadata": {
            "tags": []
          },
          "execution_count": 87
        }
      ]
    },
    {
      "cell_type": "markdown",
      "metadata": {
        "id": "vgOd0l9fzStq"
      },
      "source": [
        "As we can see. Mean median and mode are all approx equal to 1. So we would replace the 0 passenger count with 1."
      ]
    },
    {
      "cell_type": "code",
      "metadata": {
        "id": "fE9GEZaHzStr"
      },
      "source": [
        "#Replace the zero with one for the passengers count\n",
        "data['passenger_count'] = data.passenger_count.map(lambda x: 1 if x == 0 else x)"
      ],
      "execution_count": null,
      "outputs": []
    },
    {
      "cell_type": "markdown",
      "metadata": {
        "id": "fJfCvVYIzStr"
      },
      "source": [
        "Also, we will remove the records with passenger count > 7 since they are outliers. "
      ]
    },
    {
      "cell_type": "code",
      "metadata": {
        "id": "GMe44bzKzStr"
      },
      "source": [
        "#remove the outliers in the passengers count\n",
        "data = data[data.passenger_count <= 6]"
      ],
      "execution_count": null,
      "outputs": []
    },
    {
      "cell_type": "code",
      "metadata": {
        "colab": {
          "base_uri": "https://localhost:8080/"
        },
        "id": "sIZEGmHtzStr",
        "scrolled": true,
        "outputId": "f20ea2f8-8f01-44ce-a57d-b59092df1ec7"
      },
      "source": [
        "#check the value count of the passengers\n",
        "data.passenger_count.value_counts()"
      ],
      "execution_count": null,
      "outputs": [
        {
          "output_type": "execute_result",
          "data": {
            "text/plain": [
              "1    1033600\n",
              "2     210318\n",
              "5      78088\n",
              "3      59896\n",
              "6      48333\n",
              "4      28404\n",
              "Name: passenger_count, dtype: int64"
            ]
          },
          "metadata": {
            "tags": []
          },
          "execution_count": 90
        }
      ]
    },
    {
      "cell_type": "code",
      "metadata": {
        "colab": {
          "base_uri": "https://localhost:8080/",
          "height": 291
        },
        "id": "QQURBcGOzStr",
        "outputId": "6babdd9b-dcb5-489b-a189-8758984c1b10"
      },
      "source": [
        "#plot the count plot of passengers count\n",
        "sns.countplot(data.passenger_count)\n",
        "plt.show()"
      ],
      "execution_count": null,
      "outputs": [
        {
          "output_type": "display_data",
          "data": {
            "image/png": "[encoded data removed]",
            "text/plain": [
              "<Figure size 432x288 with 1 Axes>"
            ]
          },
          "metadata": {
            "tags": [],
            "needs_background": "light"
          }
        }
      ]
    },
    {
      "cell_type": "markdown",
      "metadata": {
        "id": "Cu4NvZNWzStu"
      },
      "source": [
        "We can see most of trips was taken by single passenger and that is inline with our day to day observations"
      ]
    },
    {
      "cell_type": "code",
      "metadata": {
        "colab": {
          "base_uri": "https://localhost:8080/",
          "height": 280
        },
        "id": "KxyX-tzQzStu",
        "scrolled": true,
        "outputId": "16347208-cace-49c9-fc9d-8f92d046dc3f"
      },
      "source": [
        "#plot the count plot for data vendor id\n",
        "sns.countplot(data.vendor_id)\n",
        "plt.show()"
      ],
      "execution_count": null,
      "outputs": [
        {
          "output_type": "display_data",
          "data": {
            "image/png": "[encoded data removed]",
            "text/plain": [
              "<Figure size 432x288 with 1 Axes>"
            ]
          },
          "metadata": {
            "tags": [],
            "needs_background": "light"
          }
        }
      ]
    },
    {
      "cell_type": "markdown",
      "metadata": {
        "id": "mCzbH0GezStv"
      },
      "source": [
        " Vendor 2 is evidently famous among the population as per the above graph."
      ]
    },
    {
      "cell_type": "markdown",
      "metadata": {
        "id": "qe79r1sfzStv"
      },
      "source": [
        "<a id='distance'></a>\n",
        "## Distance\n"
      ]
    },
    {
      "cell_type": "code",
      "metadata": {
        "colab": {
          "base_uri": "https://localhost:8080/"
        },
        "id": "Ma76pCQDzStv",
        "outputId": "cb05bdbb-ba8f-45b4-bb08-5f53f716da32"
      },
      "source": [
        "#Check the statistical summary of the distance\n",
        "data.distance.describe()"
      ],
      "execution_count": null,
      "outputs": [
        {
          "output_type": "execute_result",
          "data": {
            "text/plain": [
              "count    1.458639e+06\n",
              "mean     3.440876e+00\n",
              "std      4.296547e+00\n",
              "min      0.000000e+00\n",
              "25%      1.231841e+00\n",
              "50%      2.093727e+00\n",
              "75%      3.875344e+00\n",
              "max      1.240910e+03\n",
              "Name: distance, dtype: float64"
            ]
          },
          "metadata": {
            "tags": []
          },
          "execution_count": 93
        }
      ]
    },
    {
      "cell_type": "code",
      "metadata": {
        "colab": {
          "base_uri": "https://localhost:8080/",
          "height": 334
        },
        "id": "XDIqJzzTzStv",
        "scrolled": true,
        "outputId": "144082d2-68a8-4b77-be5e-de7c6be1bcdc"
      },
      "source": [
        "#plot the box plot for the distance\n",
        "plt.figure(figsize = (20,5))\n",
        "sns.boxplot(data.distance)\n",
        "plt.show()"
      ],
      "execution_count": null,
      "outputs": [
        {
          "output_type": "display_data",
          "data": {
            "image/png": "[encoded data removed]",
            "text/plain": [
              "<Figure size 1440x360 with 1 Axes>"
            ]
          },
          "metadata": {
            "tags": [],
            "needs_background": "light"
          }
        }
      ]
    },
    {
      "cell_type": "markdown",
      "metadata": {
        "id": "OKTGcbS4zStv"
      },
      "source": [
        "\n",
        "There are some trips with over 100 km distance and with a distance of 0 km.\n"
      ]
    },
    {
      "cell_type": "code",
      "metadata": {
        "colab": {
          "base_uri": "https://localhost:8080/"
        },
        "id": "zsgjIVlVzStw",
        "outputId": "82caaff7-71d4-46cb-bfa5-49abad6d63bf"
      },
      "source": [
        "print(\"There are {} trip with 0 km distance\".format(data.distance[data.distance == 0 ].count()))"
      ],
      "execution_count": null,
      "outputs": [
        {
          "output_type": "stream",
          "text": [
            "There are 5895 trip with 0 km distance\n"
          ],
          "name": "stdout"
        }
      ]
    },
    {
      "cell_type": "code",
      "metadata": {
        "colab": {
          "base_uri": "https://localhost:8080/",
          "height": 307
        },
        "id": "at_U-FKbzStw",
        "outputId": "1651bb1b-73ce-42ad-bbeb-9328f2faa04f"
      },
      "source": [
        "data[data.distance == 0 ].head()"
      ],
      "execution_count": null,
      "outputs": [
        {
          "output_type": "execute_result",
          "data": {
            "text/html": [
              "<div>\n",
              "<style scoped>\n",
              "    .dataframe tbody tr th:only-of-type {\n",
              "        vertical-align: middle;\n",
              "    }\n",
              "\n",
              "    .dataframe tbody tr th {\n",
              "        vertical-align: top;\n",
              "    }\n",
              "\n",
              "    .dataframe thead th {\n",
              "        text-align: right;\n",
              "    }\n",
              "</style>\n",
              "<table border=\"1\" class=\"dataframe\">\n",
              "  <thead>\n",
              "    <tr style=\"text-align: right;\">\n",
              "      <th></th>\n",
              "      <th>id</th>\n",
              "      <th>vendor_id</th>\n",
              "      <th>pickup_datetime</th>\n",
              "      <th>dropoff_datetime</th>\n",
              "      <th>passenger_count</th>\n",
              "      <th>pickup_longitude</th>\n",
              "      <th>pickup_latitude</th>\n",
              "      <th>dropoff_longitude</th>\n",
              "      <th>dropoff_latitude</th>\n",
              "      <th>store_and_fwd_flag</th>\n",
              "      <th>trip_duration</th>\n",
              "      <th>weekday</th>\n",
              "      <th>month</th>\n",
              "      <th>weekday_num</th>\n",
              "      <th>pickup_hour</th>\n",
              "      <th>distance</th>\n",
              "      <th>speed</th>\n",
              "      <th>flag_Y</th>\n",
              "      <th>vendor_id_2</th>\n",
              "      <th>month_2</th>\n",
              "      <th>month_3</th>\n",
              "      <th>month_4</th>\n",
              "      <th>month_5</th>\n",
              "      <th>month_6</th>\n",
              "      <th>weekday_num_1</th>\n",
              "      <th>weekday_num_2</th>\n",
              "      <th>weekday_num_3</th>\n",
              "      <th>weekday_num_4</th>\n",
              "      <th>weekday_num_5</th>\n",
              "      <th>weekday_num_6</th>\n",
              "      <th>pickup_hour_1</th>\n",
              "      <th>pickup_hour_2</th>\n",
              "      <th>pickup_hour_3</th>\n",
              "      <th>pickup_hour_4</th>\n",
              "      <th>pickup_hour_5</th>\n",
              "      <th>pickup_hour_6</th>\n",
              "      <th>pickup_hour_7</th>\n",
              "      <th>pickup_hour_8</th>\n",
              "      <th>pickup_hour_9</th>\n",
              "      <th>pickup_hour_10</th>\n",
              "      <th>pickup_hour_11</th>\n",
              "      <th>pickup_hour_12</th>\n",
              "      <th>pickup_hour_13</th>\n",
              "      <th>pickup_hour_14</th>\n",
              "      <th>pickup_hour_15</th>\n",
              "      <th>pickup_hour_16</th>\n",
              "      <th>pickup_hour_17</th>\n",
              "      <th>pickup_hour_18</th>\n",
              "      <th>pickup_hour_19</th>\n",
              "      <th>pickup_hour_20</th>\n",
              "      <th>pickup_hour_21</th>\n",
              "      <th>pickup_hour_22</th>\n",
              "      <th>pickup_hour_23</th>\n",
              "      <th>passenger_count_1</th>\n",
              "      <th>passenger_count_2</th>\n",
              "      <th>passenger_count_3</th>\n",
              "      <th>passenger_count_4</th>\n",
              "      <th>passenger_count_5</th>\n",
              "      <th>passenger_count_6</th>\n",
              "      <th>passenger_count_7</th>\n",
              "      <th>passenger_count_8</th>\n",
              "      <th>passenger_count_9</th>\n",
              "    </tr>\n",
              "  </thead>\n",
              "  <tbody>\n",
              "    <tr>\n",
              "      <th>246</th>\n",
              "      <td>id3487442</td>\n",
              "      <td>2</td>\n",
              "      <td>2016-02-29 18:39:12</td>\n",
              "      <td>2016-02-29 18:42:59</td>\n",
              "      <td>1</td>\n",
              "      <td>-73.981819</td>\n",
              "      <td>40.768963</td>\n",
              "      <td>-73.981819</td>\n",
              "      <td>40.768963</td>\n",
              "      <td>N</td>\n",
              "      <td>227</td>\n",
              "      <td>Monday</td>\n",
              "      <td>2</td>\n",
              "      <td>0</td>\n",
              "      <td>18</td>\n",
              "      <td>0.0</td>\n",
              "      <td>0.0</td>\n",
              "      <td>0</td>\n",
              "      <td>1</td>\n",
              "      <td>1</td>\n",
              "      <td>0</td>\n",
              "      <td>0</td>\n",
              "      <td>0</td>\n",
              "      <td>0</td>\n",
              "      <td>0</td>\n",
              "      <td>0</td>\n",
              "      <td>0</td>\n",
              "      <td>0</td>\n",
              "      <td>0</td>\n",
              "      <td>0</td>\n",
              "      <td>0</td>\n",
              "      <td>0</td>\n",
              "      <td>0</td>\n",
              "      <td>0</td>\n",
              "      <td>0</td>\n",
              "      <td>0</td>\n",
              "      <td>0</td>\n",
              "      <td>0</td>\n",
              "      <td>0</td>\n",
              "      <td>0</td>\n",
              "      <td>0</td>\n",
              "      <td>0</td>\n",
              "      <td>0</td>\n",
              "      <td>0</td>\n",
              "      <td>0</td>\n",
              "      <td>0</td>\n",
              "      <td>0</td>\n",
              "      <td>1</td>\n",
              "      <td>0</td>\n",
              "      <td>0</td>\n",
              "      <td>0</td>\n",
              "      <td>0</td>\n",
              "      <td>0</td>\n",
              "      <td>1</td>\n",
              "      <td>0</td>\n",
              "      <td>0</td>\n",
              "      <td>0</td>\n",
              "      <td>0</td>\n",
              "      <td>0</td>\n",
              "      <td>0</td>\n",
              "      <td>0</td>\n",
              "      <td>0</td>\n",
              "    </tr>\n",
              "    <tr>\n",
              "      <th>291</th>\n",
              "      <td>id0924324</td>\n",
              "      <td>2</td>\n",
              "      <td>2016-05-10 18:07:52</td>\n",
              "      <td>2016-05-10 18:26:21</td>\n",
              "      <td>2</td>\n",
              "      <td>-73.959068</td>\n",
              "      <td>40.775661</td>\n",
              "      <td>-73.959068</td>\n",
              "      <td>40.775661</td>\n",
              "      <td>N</td>\n",
              "      <td>1109</td>\n",
              "      <td>Tuesday</td>\n",
              "      <td>5</td>\n",
              "      <td>1</td>\n",
              "      <td>18</td>\n",
              "      <td>0.0</td>\n",
              "      <td>0.0</td>\n",
              "      <td>0</td>\n",
              "      <td>1</td>\n",
              "      <td>0</td>\n",
              "      <td>0</td>\n",
              "      <td>0</td>\n",
              "      <td>1</td>\n",
              "      <td>0</td>\n",
              "      <td>1</td>\n",
              "      <td>0</td>\n",
              "      <td>0</td>\n",
              "      <td>0</td>\n",
              "      <td>0</td>\n",
              "      <td>0</td>\n",
              "      <td>0</td>\n",
              "      <td>0</td>\n",
              "      <td>0</td>\n",
              "      <td>0</td>\n",
              "      <td>0</td>\n",
              "      <td>0</td>\n",
              "      <td>0</td>\n",
              "      <td>0</td>\n",
              "      <td>0</td>\n",
              "      <td>0</td>\n",
              "      <td>0</td>\n",
              "      <td>0</td>\n",
              "      <td>0</td>\n",
              "      <td>0</td>\n",
              "      <td>0</td>\n",
              "      <td>0</td>\n",
              "      <td>0</td>\n",
              "      <td>1</td>\n",
              "      <td>0</td>\n",
              "      <td>0</td>\n",
              "      <td>0</td>\n",
              "      <td>0</td>\n",
              "      <td>0</td>\n",
              "      <td>0</td>\n",
              "      <td>1</td>\n",
              "      <td>0</td>\n",
              "      <td>0</td>\n",
              "      <td>0</td>\n",
              "      <td>0</td>\n",
              "      <td>0</td>\n",
              "      <td>0</td>\n",
              "      <td>0</td>\n",
              "    </tr>\n",
              "    <tr>\n",
              "      <th>407</th>\n",
              "      <td>id1145809</td>\n",
              "      <td>2</td>\n",
              "      <td>2016-05-16 23:15:13</td>\n",
              "      <td>2016-05-16 23:31:00</td>\n",
              "      <td>6</td>\n",
              "      <td>-73.808487</td>\n",
              "      <td>40.687336</td>\n",
              "      <td>-73.808487</td>\n",
              "      <td>40.687336</td>\n",
              "      <td>N</td>\n",
              "      <td>947</td>\n",
              "      <td>Monday</td>\n",
              "      <td>5</td>\n",
              "      <td>0</td>\n",
              "      <td>23</td>\n",
              "      <td>0.0</td>\n",
              "      <td>0.0</td>\n",
              "      <td>0</td>\n",
              "      <td>1</td>\n",
              "      <td>0</td>\n",
              "      <td>0</td>\n",
              "      <td>0</td>\n",
              "      <td>1</td>\n",
              "      <td>0</td>\n",
              "      <td>0</td>\n",
              "      <td>0</td>\n",
              "      <td>0</td>\n",
              "      <td>0</td>\n",
              "      <td>0</td>\n",
              "      <td>0</td>\n",
              "      <td>0</td>\n",
              "      <td>0</td>\n",
              "      <td>0</td>\n",
              "      <td>0</td>\n",
              "      <td>0</td>\n",
              "      <td>0</td>\n",
              "      <td>0</td>\n",
              "      <td>0</td>\n",
              "      <td>0</td>\n",
              "      <td>0</td>\n",
              "      <td>0</td>\n",
              "      <td>0</td>\n",
              "      <td>0</td>\n",
              "      <td>0</td>\n",
              "      <td>0</td>\n",
              "      <td>0</td>\n",
              "      <td>0</td>\n",
              "      <td>0</td>\n",
              "      <td>0</td>\n",
              "      <td>0</td>\n",
              "      <td>0</td>\n",
              "      <td>0</td>\n",
              "      <td>1</td>\n",
              "      <td>0</td>\n",
              "      <td>0</td>\n",
              "      <td>0</td>\n",
              "      <td>0</td>\n",
              "      <td>0</td>\n",
              "      <td>1</td>\n",
              "      <td>0</td>\n",
              "      <td>0</td>\n",
              "      <td>0</td>\n",
              "    </tr>\n",
              "    <tr>\n",
              "      <th>702</th>\n",
              "      <td>id3499387</td>\n",
              "      <td>1</td>\n",
              "      <td>2016-01-25 19:45:12</td>\n",
              "      <td>2016-01-25 19:54:52</td>\n",
              "      <td>1</td>\n",
              "      <td>-73.786720</td>\n",
              "      <td>40.647041</td>\n",
              "      <td>-73.786720</td>\n",
              "      <td>40.647041</td>\n",
              "      <td>N</td>\n",
              "      <td>580</td>\n",
              "      <td>Monday</td>\n",
              "      <td>1</td>\n",
              "      <td>0</td>\n",
              "      <td>19</td>\n",
              "      <td>0.0</td>\n",
              "      <td>0.0</td>\n",
              "      <td>0</td>\n",
              "      <td>0</td>\n",
              "      <td>0</td>\n",
              "      <td>0</td>\n",
              "      <td>0</td>\n",
              "      <td>0</td>\n",
              "      <td>0</td>\n",
              "      <td>0</td>\n",
              "      <td>0</td>\n",
              "      <td>0</td>\n",
              "      <td>0</td>\n",
              "      <td>0</td>\n",
              "      <td>0</td>\n",
              "      <td>0</td>\n",
              "      <td>0</td>\n",
              "      <td>0</td>\n",
              "      <td>0</td>\n",
              "      <td>0</td>\n",
              "      <td>0</td>\n",
              "      <td>0</td>\n",
              "      <td>0</td>\n",
              "      <td>0</td>\n",
              "      <td>0</td>\n",
              "      <td>0</td>\n",
              "      <td>0</td>\n",
              "      <td>0</td>\n",
              "      <td>0</td>\n",
              "      <td>0</td>\n",
              "      <td>0</td>\n",
              "      <td>0</td>\n",
              "      <td>0</td>\n",
              "      <td>1</td>\n",
              "      <td>0</td>\n",
              "      <td>0</td>\n",
              "      <td>0</td>\n",
              "      <td>0</td>\n",
              "      <td>1</td>\n",
              "      <td>0</td>\n",
              "      <td>0</td>\n",
              "      <td>0</td>\n",
              "      <td>0</td>\n",
              "      <td>0</td>\n",
              "      <td>0</td>\n",
              "      <td>0</td>\n",
              "      <td>0</td>\n",
              "    </tr>\n",
              "    <tr>\n",
              "      <th>1620</th>\n",
              "      <td>id0753277</td>\n",
              "      <td>1</td>\n",
              "      <td>2016-01-27 22:29:31</td>\n",
              "      <td>2016-01-27 22:29:58</td>\n",
              "      <td>1</td>\n",
              "      <td>-74.209854</td>\n",
              "      <td>40.816853</td>\n",
              "      <td>-74.209854</td>\n",
              "      <td>40.816853</td>\n",
              "      <td>N</td>\n",
              "      <td>27</td>\n",
              "      <td>Wednesday</td>\n",
              "      <td>1</td>\n",
              "      <td>2</td>\n",
              "      <td>22</td>\n",
              "      <td>0.0</td>\n",
              "      <td>0.0</td>\n",
              "      <td>0</td>\n",
              "      <td>0</td>\n",
              "      <td>0</td>\n",
              "      <td>0</td>\n",
              "      <td>0</td>\n",
              "      <td>0</td>\n",
              "      <td>0</td>\n",
              "      <td>0</td>\n",
              "      <td>1</td>\n",
              "      <td>0</td>\n",
              "      <td>0</td>\n",
              "      <td>0</td>\n",
              "      <td>0</td>\n",
              "      <td>0</td>\n",
              "      <td>0</td>\n",
              "      <td>0</td>\n",
              "      <td>0</td>\n",
              "      <td>0</td>\n",
              "      <td>0</td>\n",
              "      <td>0</td>\n",
              "      <td>0</td>\n",
              "      <td>0</td>\n",
              "      <td>0</td>\n",
              "      <td>0</td>\n",
              "      <td>0</td>\n",
              "      <td>0</td>\n",
              "      <td>0</td>\n",
              "      <td>0</td>\n",
              "      <td>0</td>\n",
              "      <td>0</td>\n",
              "      <td>0</td>\n",
              "      <td>0</td>\n",
              "      <td>0</td>\n",
              "      <td>0</td>\n",
              "      <td>1</td>\n",
              "      <td>0</td>\n",
              "      <td>1</td>\n",
              "      <td>0</td>\n",
              "      <td>0</td>\n",
              "      <td>0</td>\n",
              "      <td>0</td>\n",
              "      <td>0</td>\n",
              "      <td>0</td>\n",
              "      <td>0</td>\n",
              "      <td>0</td>\n",
              "    </tr>\n",
              "  </tbody>\n",
              "</table>\n",
              "</div>"
            ],
            "text/plain": [
              "             id  vendor_id  ... passenger_count_8 passenger_count_9\n",
              "246   id3487442          2  ...                 0                 0\n",
              "291   id0924324          2  ...                 0                 0\n",
              "407   id1145809          2  ...                 0                 0\n",
              "702   id3499387          1  ...                 0                 0\n",
              "1620  id0753277          1  ...                 0                 0\n",
              "\n",
              "[5 rows x 62 columns]"
            ]
          },
          "metadata": {
            "tags": []
          },
          "execution_count": 96
        }
      ]
    },
    {
      "cell_type": "markdown",
      "metadata": {
        "id": "pEqlxT0uzStw"
      },
      "source": [
        "\n",
        "- Around 6K trip record with distance equal to 0. \n",
        "\n"
      ]
    },
    {
      "cell_type": "code",
      "metadata": {
        "colab": {
          "base_uri": "https://localhost:8080/",
          "height": 279
        },
        "id": "cy42G129zStw",
        "scrolled": true,
        "outputId": "e54fb322-f7d0-4bbe-bd37-a8619b401a22"
      },
      "source": [
        "#plot the horizontal bar plot for the distance\n",
        "data.distance.groupby(pd.cut(data.distance, np.arange(0,100,10))).count().plot(kind='barh')\n",
        "plt.xlabel('Count')\n",
        "plt.show()"
      ],
      "execution_count": null,
      "outputs": [
        {
          "output_type": "display_data",
          "data": {
            "image/png": "[encoded data removed]",
            "text/plain": [
              "<Figure size 432x288 with 1 Axes>"
            ]
          },
          "metadata": {
            "tags": [],
            "needs_background": "light"
          }
        }
      ]
    },
    {
      "cell_type": "markdown",
      "metadata": {
        "id": "Kz5AuwX_zStw"
      },
      "source": [
        "From the above observation it is evident that most of the rides are completed between 1-10 Kms with some of the rides with distances between 10-30 kms. "
      ]
    },
    {
      "cell_type": "markdown",
      "metadata": {
        "id": "ekg4jD2HzStw"
      },
      "source": [
        "<a id=duration></a>\n",
        "## Trip duration\n"
      ]
    },
    {
      "cell_type": "code",
      "metadata": {
        "colab": {
          "base_uri": "https://localhost:8080/"
        },
        "id": "x1C2qFT4zStx",
        "scrolled": true,
        "outputId": "fe5b97d9-75d7-40fd-e1f5-9dc0062fd7dc"
      },
      "source": [
        "#check the summary of the trip duration\n",
        "data.trip_duration.describe()"
      ],
      "execution_count": null,
      "outputs": [
        {
          "output_type": "execute_result",
          "data": {
            "text/plain": [
              "count    1.458639e+06\n",
              "mean     9.594951e+02\n",
              "std      5.237440e+03\n",
              "min      1.000000e+00\n",
              "25%      3.970000e+02\n",
              "50%      6.620000e+02\n",
              "75%      1.075000e+03\n",
              "max      3.526282e+06\n",
              "Name: trip_duration, dtype: float64"
            ]
          },
          "metadata": {
            "tags": []
          },
          "execution_count": 98
        }
      ]
    },
    {
      "cell_type": "code",
      "metadata": {
        "colab": {
          "base_uri": "https://localhost:8080/",
          "height": 335
        },
        "id": "CaidMLXXzStx",
        "outputId": "16a81001-1432-4eb4-aa1b-bbf8f7bb4441"
      },
      "source": [
        "#plot the boxplot for the trip duration\n",
        "plt.figure(figsize = (20,5))\n",
        "sns.boxplot(data.trip_duration)\n",
        "plt.show()"
      ],
      "execution_count": null,
      "outputs": [
        {
          "output_type": "display_data",
          "data": {
            "image/png": "[encoded data removed]",
            "text/plain": [
              "<Figure size 1440x360 with 1 Axes>"
            ]
          },
          "metadata": {
            "tags": [],
            "needs_background": "light"
          }
        }
      ]
    },
    {
      "cell_type": "code",
      "metadata": {
        "colab": {
          "base_uri": "https://localhost:8080/"
        },
        "id": "qEWUrnJdzStx",
        "scrolled": true,
        "outputId": "cfed6219-3294-4ec9-e9a5-b0e10d1aacdb"
      },
      "source": [
        "data.trip_duration.groupby(pd.cut(data.trip_duration, np.arange(1,max(data.trip_duration),3600))).count()"
      ],
      "execution_count": null,
      "outputs": [
        {
          "output_type": "execute_result",
          "data": {
            "text/plain": [
              "trip_duration\n",
              "(1, 3601]             1446308\n",
              "(3601, 7201]            10045\n",
              "(7201, 10801]             141\n",
              "(10801, 14401]             35\n",
              "(14401, 18001]              5\n",
              "                       ...   \n",
              "(3506401, 3510001]          0\n",
              "(3510001, 3513601]          0\n",
              "(3513601, 3517201]          0\n",
              "(3517201, 3520801]          0\n",
              "(3520801, 3524401]          0\n",
              "Name: trip_duration, Length: 979, dtype: int64"
            ]
          },
          "metadata": {
            "tags": []
          },
          "execution_count": 100
        }
      ]
    },
    {
      "cell_type": "code",
      "metadata": {
        "id": "KRxK5D81zSty"
      },
      "source": [
        "#remove the outliers from the data set\n",
        "data = data[data.trip_duration <= 86400]"
      ],
      "execution_count": null,
      "outputs": []
    },
    {
      "cell_type": "markdown",
      "metadata": {
        "id": "HV-P8u9lzSty"
      },
      "source": [
        "Let's visualize the number of trips taken in slabs of 0-10, 20-30 ... minutes respectively"
      ]
    },
    {
      "cell_type": "code",
      "metadata": {
        "colab": {
          "base_uri": "https://localhost:8080/",
          "height": 279
        },
        "id": "z05W-gcPzSty",
        "scrolled": true,
        "outputId": "aa8d61af-8731-4188-9183-903a1a1f863a"
      },
      "source": [
        "#plot the horizontal bar plot for the trip duration\n",
        "data.trip_duration.groupby(pd.cut(data.trip_duration, np.arange(1,7200,600))).count().plot(kind='barh')\n",
        "plt.xlabel('Trip Counts')\n",
        "plt.ylabel('Trip Duration (seconds)')\n",
        "plt.show()"
      ],
      "execution_count": null,
      "outputs": [
        {
          "output_type": "display_data",
          "data": {
            "image/png": "[encoded data removed]",
            "text/plain": [
              "<Figure size 432x288 with 1 Axes>"
            ]
          },
          "metadata": {
            "tags": [],
            "needs_background": "light"
          }
        }
      ]
    },
    {
      "cell_type": "markdown",
      "metadata": {
        "id": "eAgNGBWZzSty"
      },
      "source": [
        "We can observe that most of the trips took 0 - 30 mins to complete i.e. approx 1800 secs. Let's move ahead to next feature."
      ]
    },
    {
      "cell_type": "markdown",
      "metadata": {
        "id": "A-lPOLHHzSty"
      },
      "source": [
        "<a id=speed></a>\n",
        "## Speed\n",
        "***\n",
        "Speed is a function of distance and time. Let's visualize speed in different trips.\n",
        "\n"
      ]
    },
    {
      "cell_type": "code",
      "metadata": {
        "colab": {
          "base_uri": "https://localhost:8080/"
        },
        "id": "VfSYk_JJzStz",
        "outputId": "eb574a0f-119f-4430-f715-a11b5680c8ef"
      },
      "source": [
        "#check the summary of the speed\n",
        "data.speed.describe()"
      ],
      "execution_count": null,
      "outputs": [
        {
          "output_type": "execute_result",
          "data": {
            "text/plain": [
              "count    1.458635e+06\n",
              "mean     1.442318e+01\n",
              "std      1.497671e+01\n",
              "min      0.000000e+00\n",
              "25%      9.121368e+00\n",
              "50%      1.279202e+01\n",
              "75%      1.784496e+01\n",
              "max      9.274850e+03\n",
              "Name: speed, dtype: float64"
            ]
          },
          "metadata": {
            "tags": []
          },
          "execution_count": 50
        }
      ]
    },
    {
      "cell_type": "code",
      "metadata": {
        "colab": {
          "base_uri": "https://localhost:8080/",
          "height": 334
        },
        "id": "XE_NibF2zStz",
        "outputId": "3263fa0a-1249-4bec-8654-5a356345ca90"
      },
      "source": [
        "#plot the boxplot for the speed\n",
        "plt.figure(figsize = (20,5))\n",
        "sns.boxplot(data.speed)\n",
        "plt.show()"
      ],
      "execution_count": null,
      "outputs": [
        {
          "output_type": "display_data",
          "data": {
            "image/png": "[encoded data removed]",
            "text/plain": [
              "<Figure size 1440x360 with 1 Axes>"
            ]
          },
          "metadata": {
            "tags": [],
            "needs_background": "light"
          }
        }
      ]
    },
    {
      "cell_type": "markdown",
      "metadata": {
        "id": "AnGGK06PzStz"
      },
      "source": [
        "\n",
        "- Many trips were done at a speed of over 200 km/h. \n",
        "\n",
        "Let's remove them and focus on the trips which were done at less than 104 km/h as per the speed limits"
      ]
    },
    {
      "cell_type": "code",
      "metadata": {
        "colab": {
          "base_uri": "https://localhost:8080/",
          "height": 334
        },
        "id": "ybdR-bqtzStz",
        "scrolled": true,
        "outputId": "f5d3ce7d-b1f6-4bcd-8faf-c416057cdc4f"
      },
      "source": [
        "#remove the outliers and plot the box plot for the speed\n",
        "data = data[data.speed <= 104]\n",
        "plt.figure(figsize = (20,5))\n",
        "sns.boxplot(data.speed)\n",
        "plt.show()"
      ],
      "execution_count": null,
      "outputs": [
        {
          "output_type": "display_data",
          "data": {
            "image/png": "[encoded data removed]",
            "text/plain": [
              "<Figure size 1440x360 with 1 Axes>"
            ]
          },
          "metadata": {
            "tags": [],
            "needs_background": "light"
          }
        }
      ]
    },
    {
      "cell_type": "markdown",
      "metadata": {
        "id": "7oMnT7GlzStz"
      },
      "source": [
        "### Observations:\n",
        "- Trips over 30 km/h are being considered as outliers but we cannot ignore them because they are well under the highest speed limit of 104 km/h on state controlled highways.\n",
        "- Mostly trips are done at a speed range of 10-20 km/h with an average speed of around 14 km/h.\n",
        "\n",
        "Let's take a look at the speed range ditribution with the help of graph."
      ]
    },
    {
      "cell_type": "code",
      "metadata": {
        "colab": {
          "base_uri": "https://localhost:8080/",
          "height": 279
        },
        "id": "0E4HGTaEzSt0",
        "scrolled": true,
        "outputId": "f4592bf7-c428-461d-beca-d5581d32a4dc"
      },
      "source": [
        "#plot the bar plot for the speed\n",
        "data.speed.groupby(pd.cut(data.speed, np.arange(0,104,10))).count().plot(kind = 'barh')\n",
        "plt.xlabel('Trip count')\n",
        "plt.ylabel('Speed (Km/H)')\n",
        "plt.show()"
      ],
      "execution_count": null,
      "outputs": [
        {
          "output_type": "display_data",
          "data": {
            "image/png": "[encoded data removed]",
            "text/plain": [
              "<Figure size 432x288 with 1 Axes>"
            ]
          },
          "metadata": {
            "tags": [],
            "needs_background": "light"
          }
        }
      ]
    },
    {
      "cell_type": "markdown",
      "metadata": {
        "id": "uDWpV1srzSt0"
      },
      "source": [
        "It is evident from this graph what we thought off earlier i.e. most of the trips were done at a speed range of 10-20 km/H."
      ]
    },
    {
      "cell_type": "markdown",
      "metadata": {
        "id": "WfrOdjz4zSt2"
      },
      "source": [
        "<a id=hour_trip></a>\n",
        "## Total trips Per Hour\n",
        "***\n",
        "Let's take a look at the distribution of the pickups across the 24 hour time scale."
      ]
    },
    {
      "cell_type": "code",
      "metadata": {
        "colab": {
          "base_uri": "https://localhost:8080/",
          "height": 280
        },
        "id": "YqkzWMZuzSt2",
        "outputId": "88ba25f6-0652-4911-dc68-f679222442f7"
      },
      "source": [
        "#plot the count plot for the pickup hours\n",
        "sns.countplot(data.pickup_hour)\n",
        "plt.show()"
      ],
      "execution_count": null,
      "outputs": [
        {
          "output_type": "display_data",
          "data": {
            "image/png": "[encoded data removed]",
            "text/plain": [
              "<Figure size 432x288 with 1 Axes>"
            ]
          },
          "metadata": {
            "tags": [],
            "needs_background": "light"
          }
        }
      ]
    },
    {
      "cell_type": "markdown",
      "metadata": {
        "id": "0K643r1fzSt2"
      },
      "source": [
        "General trend of taxi pickups which starts increasing from 6AM in the morning and then declines from late evening i.e. around 8 PM. There is no unusual behavior here."
      ]
    },
    {
      "cell_type": "markdown",
      "metadata": {
        "id": "p3RiQms9zSt2"
      },
      "source": [
        "<a id=week_trip></a>\n",
        "## Total trips per weekday\n",
        "***\n",
        "Let's take a look now at the distribution of taxi pickups across the week."
      ]
    },
    {
      "cell_type": "code",
      "metadata": {
        "colab": {
          "base_uri": "https://localhost:8080/",
          "height": 388
        },
        "id": "2PAWU8OCzSt2",
        "outputId": "e63b10b8-3a20-405e-d093-440cabf96700"
      },
      "source": [
        "#plot the pickup count for a week\n",
        "plt.figure(figsize = (8,6))\n",
        "sns.countplot(data.weekday_num)\n",
        "plt.xlabel('Weekdays')\n",
        "plt.ylabel('Pickup counts')\n",
        "plt.show()"
      ],
      "execution_count": null,
      "outputs": [
        {
          "output_type": "display_data",
          "data": {
            "image/png": "[encoded data removed]",
            "text/plain": [
              "<Figure size 576x432 with 1 Axes>"
            ]
          },
          "metadata": {
            "tags": [],
            "needs_background": "light"
          }
        }
      ]
    },
    {
      "cell_type": "markdown",
      "metadata": {
        "id": "Pu7c7x66zSt3"
      },
      "source": [
        "Here we can see an increasing trend of taxi pickups starting from Monday till Friday. The trend starts declining from saturday till monday.\n"
      ]
    },
    {
      "cell_type": "code",
      "metadata": {
        "colab": {
          "base_uri": "https://localhost:8080/",
          "height": 279
        },
        "id": "cgoQiDczzSt4",
        "outputId": "d6de1b1e-ea7a-473f-d693-5ba947e1ed44"
      },
      "source": [
        "#plot the line plot for tripduration and pickup hours\n",
        "pickup = data.groupby('pickup_hour').trip_duration.mean()\n",
        "sns.pointplot(pickup.index, pickup.values)\n",
        "plt.ylabel('Trip Duration (seconds)')\n",
        "plt.xlabel('Pickup Hour')\n",
        "plt.show()"
      ],
      "execution_count": null,
      "outputs": [
        {
          "output_type": "display_data",
          "data": {
            "image/png": "[encoded data removed]",
            "text/plain": [
              "<Figure size 432x288 with 1 Axes>"
            ]
          },
          "metadata": {
            "tags": [],
            "needs_background": "light"
          }
        }
      ]
    },
    {
      "cell_type": "markdown",
      "metadata": {
        "id": "RNJ_YAhBzSt4"
      },
      "source": [
        "Average trip duration is generally highest around 3 PM during the busy streets.\n"
      ]
    },
    {
      "cell_type": "markdown",
      "metadata": {
        "id": "WRbo9idDzSt5"
      },
      "source": [
        "<a id=vendor_duration></a>\n",
        "## Trip duration per vendor\n",
        "***\n",
        "We can also look at the average difference between the trip duration for each vendor. However we do know that vendor 2 has larger share of the market. Let's visualize."
      ]
    },
    {
      "cell_type": "code",
      "metadata": {
        "colab": {
          "base_uri": "https://localhost:8080/",
          "height": 279
        },
        "id": "uBMurLiszSt5",
        "outputId": "8c94b6d7-05e8-4246-9324-22f80cee6025"
      },
      "source": [
        "#plot the bar plot for trip duration and vendor\n",
        "vendor = data.groupby('vendor_id').trip_duration.mean()\n",
        "sns.barplot(vendor.index, vendor.values)\n",
        "plt.ylabel('Trip Duration (seconds)')\n",
        "plt.xlabel('Vendor')\n",
        "plt.show()"
      ],
      "execution_count": null,
      "outputs": [
        {
          "output_type": "display_data",
          "data": {
            "image/png": "[encoded data removed]",
            "text/plain": [
              "<Figure size 432x288 with 1 Axes>"
            ]
          },
          "metadata": {
            "tags": [],
            "needs_background": "light"
          }
        }
      ]
    },
    {
      "cell_type": "markdown",
      "metadata": {
        "id": "erSMs--CzSt5"
      },
      "source": [
        "Vendor 2 takes the crown. Average trip duration for vendor 2 is higher than vendor 1 by approx 200 seconds i.e. atleast 3 minutes per trip."
      ]
    },
    {
      "cell_type": "markdown",
      "metadata": {
        "id": "OrIYEcgvzSt8"
      },
      "source": [
        "This is more or less same picture with both the vendors. Nothing more to analyze in this."
      ]
    },
    {
      "cell_type": "code",
      "metadata": {
        "id": "cAX4UB6x0-9D"
      },
      "source": [
        "X=data.drop(['pickup_datetime','dropoff_datetime','store_and_fwd_flag','trip_duration','weekday','id'],axis=1)\n",
        "y=data['trip_duration']"
      ],
      "execution_count": null,
      "outputs": []
    },
    {
      "cell_type": "markdown",
      "metadata": {
        "id": "5fvY2vLgzSuG"
      },
      "source": [
        "<a id=split></a>\n",
        "### Split Data\n",
        "Before training our model on the dataset, we need to split the dataset into training and testing datasets. This is required to train our model on the major part of our dataset and test the accuracy of the model on the minor part. Let's split it"
      ]
    },
    {
      "cell_type": "code",
      "metadata": {
        "id": "2_LI-bGxzSuH"
      },
      "source": [
        "#spliting the data\n",
        "X_train, X_test, y_train, y_test= train_test_split(X,y, random_state=4, test_size=0.2)"
      ],
      "execution_count": null,
      "outputs": []
    },
    {
      "cell_type": "markdown",
      "metadata": {
        "id": "-OdJXS2gzSuK"
      },
      "source": [
        "<a id=model></a>\n",
        "# Model\n",
        "***\n",
        "We need a model to train on our dataset to serve our purpose of prediciting the NYC taxi trip duration given the other features as training and test set. Since our dependent variable contains continous values so we will use regression technique to predict our output."
      ]
    },
    {
      "cell_type": "markdown",
      "metadata": {
        "id": "JDsODRQ113zg"
      },
      "source": [
        "#Linear Regression"
      ]
    },
    {
      "cell_type": "code",
      "metadata": {
        "colab": {
          "base_uri": "https://localhost:8080/"
        },
        "id": "9u_NsMZ110CX",
        "outputId": "1e0c9a6e-0176-43df-f999-cfa83db3ab13"
      },
      "source": [
        "#Linear regressor for the raw data\n",
        "regressor = LinearRegression() \n",
        "regressor.fit(X_train,y_train) "
      ],
      "execution_count": null,
      "outputs": [
        {
          "output_type": "execute_result",
          "data": {
            "text/plain": [
              "LinearRegression(copy_X=True, fit_intercept=True, n_jobs=None, normalize=False)"
            ]
          },
          "metadata": {
            "tags": []
          },
          "execution_count": 60
        }
      ]
    },
    {
      "cell_type": "code",
      "metadata": {
        "id": "1hcJHpQS2EsE"
      },
      "source": [
        "#Predict from the test features of raw data\n",
        "y_pred = regressor.predict(X_test)"
      ],
      "execution_count": null,
      "outputs": []
    },
    {
      "cell_type": "code",
      "metadata": {
        "colab": {
          "base_uri": "https://localhost:8080/"
        },
        "id": "hK1O_bQF2LMq",
        "outputId": "6613acb6-8b2f-4c5f-c5cd-01c95c6c3a52"
      },
      "source": [
        "#Evaluate the regressor on the raw data\n",
        "print('RMSE score of the model is : {}'.format(np.sqrt(metrics.mean_squared_error(y_test,y_pred))))\n",
        "print('Variance score of the model is : %.2f' % regressor.score(X_test, y_test))\n",
        "print(\"\\n\")"
      ],
      "execution_count": null,
      "outputs": [
        {
          "output_type": "stream",
          "text": [
            "RMSE score of the model is : 3144.9562748602616\n",
            "Variance score of the model is : 0.06\n",
            "\n",
            "\n"
          ],
          "name": "stdout"
        }
      ]
    },
    {
      "cell_type": "markdown",
      "metadata": {
        "id": "YC6Q9sLKzSuO"
      },
      "source": [
        "<a id=xgboost></a>\n",
        "## XGBoost Regressor\n",
        "***\n",
        "XGBoost (Extreme Gradient Boosting) is an optimized distributed gradient boosting library. It uses gradient boosting (GBM) framework at core. It belongs to a family of boosting algorithms that convert weak learners into strong learners. A weak learner is one which is slightly better than random guessing.\n",
        "\n",
        "'Boosting' here is a sequential process; i.e., trees are grown using the information from a previously grown tree one after the other. This process slowly learns from data and tries to improve its prediction in the subsequent iterations."
      ]
    },
    {
      "cell_type": "markdown",
      "metadata": {
        "id": "8i3svzjAzSuO"
      },
      "source": [
        "### Model training\n",
        "***\n",
        "We will train the model on the filtered features. Our data has already been split so we will not split the data further.\n",
        "\n",
        "#### Note:\n",
        "We used **GridSearch** to tune the **hyperparameters** of XGBoost regressor to get the best possible test score.  We will compare results from the default regressor and the tuned regressor."
      ]
    },
    {
      "cell_type": "code",
      "metadata": {
        "id": "_GujcftFzSuO"
      },
      "source": [
        "\n",
        "#instantiate the object for the XGBoost Regressor with tuned hyper parameters \n",
        "regressor_xgb1 = XGBRegressor(n_estimators=300,\n",
        "                            learning_rate=0.08,\n",
        "                            gamma=0,\n",
        "                            subsample=0.75,\n",
        "                            colsample_bytree=1,\n",
        "                            max_depth=7,\n",
        "                            min_child_weight=4,\n",
        "                            silent=1,\n",
        "                           n_jobs=-1)\n",
        "\n"
      ],
      "execution_count": null,
      "outputs": []
    },
    {
      "cell_type": "code",
      "metadata": {
        "colab": {
          "base_uri": "https://localhost:8080/"
        },
        "id": "yOKuspCn2oAX",
        "outputId": "d31625b4-c103-48c4-eeaf-8ee8fc68eb4c"
      },
      "source": [
        "#Train the object with tuned params for Feature Selection Group\n",
        "regressor_xgb1.fit(X_train,y_train)\n"
      ],
      "execution_count": null,
      "outputs": [
        {
          "output_type": "execute_result",
          "data": {
            "text/plain": [
              "XGBRegressor(base_score=0.5, booster='gbtree', colsample_bylevel=1,\n",
              "             colsample_bynode=1, colsample_bytree=1, gamma=0,\n",
              "             importance_type='gain', learning_rate=0.08, max_delta_step=0,\n",
              "             max_depth=7, min_child_weight=4, missing=None, n_estimators=300,\n",
              "             n_jobs=-1, nthread=None, objective='reg:linear', random_state=0,\n",
              "             reg_alpha=0, reg_lambda=1, scale_pos_weight=1, seed=None, silent=1,\n",
              "             subsample=0.75, verbosity=1)"
            ]
          },
          "metadata": {
            "tags": []
          },
          "execution_count": 64
        }
      ]
    },
    {
      "cell_type": "markdown",
      "metadata": {
        "id": "NmFTXu6bzSuP"
      },
      "source": [
        "### Model prediction"
      ]
    },
    {
      "cell_type": "code",
      "metadata": {
        "id": "VmBiMmMOzSuP"
      },
      "source": [
        "#Predict the output with object of default params for raw data\n",
        "y_pred_xgbraw = regressor_xgb1.predict(X_test)\n",
        "\n"
      ],
      "execution_count": null,
      "outputs": []
    },
    {
      "cell_type": "markdown",
      "metadata": {
        "id": "KisToBUNzSuP"
      },
      "source": [
        "### Model Evaluation"
      ]
    },
    {
      "cell_type": "code",
      "metadata": {
        "id": "3KxG_dYuzSuP",
        "colab": {
          "base_uri": "https://localhost:8080/"
        },
        "outputId": "f8f788f6-4b83-4272-dca5-5bd0b2ba28a5"
      },
      "source": [
        "#Evaluate the model with default params for raw data\n",
        "print('RMSE score for the XGBoost regressor raw is : {}'.format(np.sqrt(metrics.mean_squared_error(y_test,y_pred_xgbraw))))\n",
        "# print('RMSLE score for the XGBoost regressor is : {}'.format(np.sqrt(metrics.mean_squared_log_error(y_test,y_pred_xgb))))\n",
        "print('Variance score for the XGBoost regressor raw is : %.2f' % regressor_xgb1.score(X_test, y_test))\n"
      ],
      "execution_count": null,
      "outputs": [
        {
          "output_type": "stream",
          "text": [
            "RMSE score for the XGBoost regressor raw is : 256.8112292150012\n",
            "Variance score for the XGBoost regressor raw is : 0.99\n"
          ],
          "name": "stdout"
        }
      ]
    },
    {
      "cell_type": "code",
      "metadata": {
        "id": "9Fd0qw9azSuP"
      },
      "source": [
        "#Comparing test results for the XGBoost and RF regressor\n",
        "print(\"Total sum of difference between the actual and the predicted values for the RF regressor is : %d\"%np.abs(np.sum(np.subtract(y_test,y_pred_rf))))\n",
        "print(\"Total sum of difference between the actual and the predicted values for the tuned XGB regressor is : %d\"%np.abs(np.sum(np.subtract(y_test,y_pred_xgb1))))"
      ],
      "execution_count": null,
      "outputs": []
    },
    {
      "cell_type": "markdown",
      "metadata": {
        "id": "rtNs8M9_zSuQ"
      },
      "source": [
        "### General inference\n",
        "- XGBoost proved to be much more efficient in predicting the output. But it takes much more time to train it over the large dataset wih more complexity as compared to the RF and Linear regression model but less time then the SVM"
      ]
    },
    {
      "cell_type": "markdown",
      "metadata": {
        "id": "PMrrJCnlzSuQ"
      },
      "source": [
        "<a id=final></a>\n",
        "## Conclusion\n",
        "\n",
        "\n",
        "\n",
        "*    Most of trip consist of passenger either 1 or 2.\n",
        "*  Average trip duration is generally highest around 3 PM during the busy streets.\n",
        "\n",
        "*   most of the trips were done at a speed range of 10-20 km/H.\n",
        "\n",
        "*   Vendor 2 is evidently famous among the population\n",
        "\n",
        "*   XGBoost proved to be much more efficient in predicting the output. But it takes much more time to train it over the large dataset wih more complexity as compared to the RF and Linear regression model but less time then the SVR.\n",
        "\n",
        "*   List item\n",
        "\n",
        "\n",
        "\n",
        "\n",
        "\n",
        "\n"
      ]
    },
    {
      "cell_type": "code",
      "metadata": {
        "id": "gj7_xdKCncIN"
      },
      "source": [
        "\n"
      ],
      "execution_count": null,
      "outputs": []
    }
  ]
}